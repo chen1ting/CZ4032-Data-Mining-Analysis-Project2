{
 "cells": [
  {
   "cell_type": "code",
   "execution_count": 59,
   "metadata": {},
   "outputs": [],
   "source": [
    "# Load libraries\n",
    "import os\n",
    "import pandas as pd\n",
    "import seaborn as sns\n",
    "import numpy as np\n",
    "import matplotlib.pyplot as plt\n",
    "# Turn interactive plotting off, show plot only when plt.show() is called\n",
    "plt.ioff()\n",
    "\n",
    "INPUT = \"datasets\"\n",
    "OUTPUT = os.path.join(\"datasets\", \"exploratory data analysis\")\n",
    "\n",
    "if not os.path.exists(OUTPUT):\n",
    "    os.makedirs(OUTPUT)\n",
    "\n",
    "from warnings import filterwarnings\n",
    "filterwarnings(action='ignore', category=DeprecationWarning, message='`np.bool` is a deprecated alias')"
   ]
  },
  {
   "cell_type": "markdown",
   "metadata": {},
   "source": [
    "# Import datasets"
   ]
  },
  {
   "cell_type": "code",
   "execution_count": 45,
   "metadata": {},
   "outputs": [],
   "source": [
    "# preprocessing method\n",
    "def cat_2_num(df:pd.DataFrame):\n",
    "    cat_columns = df.select_dtypes(['object']).columns\n",
    "    df[cat_columns] = df[cat_columns].astype('category')\n",
    "    df[cat_columns] = df[cat_columns].apply(lambda x: x.cat.codes)\n",
    "    return df"
   ]
  },
  {
   "cell_type": "markdown",
   "metadata": {},
   "source": [
    "## UCI datasets"
   ]
  },
  {
   "cell_type": "code",
   "execution_count": 46,
   "metadata": {},
   "outputs": [],
   "source": [
    "#German dataset\n",
    "def German():\n",
    "    df = pd.read_table(os.path.join(INPUT,\"german.data-numeric\"),delim_whitespace = True, header = None)\n",
    "    df[24] = df[24]-1    # change label from 1,2 to 0,1\n",
    "    return df.drop(columns = [24]), df[24].astype(bool)"
   ]
  },
  {
   "cell_type": "code",
   "execution_count": 47,
   "metadata": {},
   "outputs": [],
   "source": [
    "def Australian():\n",
    "    df = pd.read_table(os.path.join(INPUT,\"australian.dat\"),delim_whitespace = True, header = None)\n",
    "    return df.drop(columns = [14]), df[14].astype(bool)"
   ]
  },
  {
   "cell_type": "code",
   "execution_count": 48,
   "metadata": {},
   "outputs": [],
   "source": [
    "def Crx():\n",
    "    df = pd.read_csv(os.path.join(INPUT,\"crx.data\"), header = None)\n",
    "    # drop entries with ?\n",
    "    df = df.replace(\"?\", np.nan).dropna()\n",
    "    # convert category data to numerical data\n",
    "    df = cat_2_num(df)\n",
    "    return df.drop(columns = [15]), df[15].astype(bool)"
   ]
  },
  {
   "cell_type": "code",
   "execution_count": 49,
   "metadata": {},
   "outputs": [],
   "source": [
    "def Hepatitis():\n",
    "    df = pd.read_csv(os.path.join(INPUT,\"hepatitis.data\"), header = None)\n",
    "    df = cat_2_num(df)\n",
    "    df[19] = df[19]-1 # change to 0 or 1\n",
    "    return df.drop(columns = [19]), df[19].astype(bool)"
   ]
  },
  {
   "cell_type": "code",
   "execution_count": 50,
   "metadata": {},
   "outputs": [],
   "source": [
    "def Ionosphere():\n",
    "    df = pd.read_csv(os.path.join(INPUT, \"ionosphere.data\"), header=None)\n",
    "    df = cat_2_num(df)\n",
    "    \n",
    "    return df.drop(columns = [34]), df[34].astype(bool)"
   ]
  },
  {
   "cell_type": "markdown",
   "metadata": {},
   "source": [
    "## Additional Kaggle datasets"
   ]
  },
  {
   "cell_type": "code",
   "execution_count": 51,
   "metadata": {},
   "outputs": [],
   "source": [
    "def Pumpkin():\n",
    "    df = pd.read_excel(os.path.join(\"datasets\",'Pumpkin_Seeds_Dataset.xlsx'), sheet_name='Pumpkin_Seeds_Dataset',engine='openpyxl')\n",
    "    df = cat_2_num(df)\n",
    "    return df.drop(columns = ['Class']), df['Class'].astype(bool)"
   ]
  },
  {
   "cell_type": "code",
   "execution_count": 52,
   "metadata": {},
   "outputs": [],
   "source": [
    "# 5644 samples, relatively large dataset\n",
    "def Mushroom():\n",
    "    df = pd.read_csv(os.path.join(INPUT,'mushrooms.csv'))\n",
    "    df = df.replace(\"?\", np.nan).dropna()\n",
    "    df = cat_2_num(df)\n",
    "    return df.drop(columns = ['class']), df['class'].astype(bool)"
   ]
  },
  {
   "cell_type": "code",
   "execution_count": 53,
   "metadata": {},
   "outputs": [],
   "source": [
    "def Diabetes():\n",
    "    df = pd.read_csv(os.path.join(INPUT,'diabetes_data.csv'), sep=';')\n",
    "    df = cat_2_num(df)\n",
    "    return df.drop(columns = ['class']), df['class'].astype(bool)"
   ]
  },
  {
   "cell_type": "markdown",
   "metadata": {},
   "source": [
    "# Exploratory Data Analysis"
   ]
  },
  {
   "cell_type": "code",
   "execution_count": 60,
   "metadata": {},
   "outputs": [],
   "source": [
    "dataset_getters = [German, Australian, Crx, Hepatitis, Ionosphere, Pumpkin, Mushroom, Diabetes]\n",
    "for getter in dataset_getters:\n",
    "    X, y = getter()\n",
    "\n",
    "    width = len(X.columns)\n",
    "\n",
    "    # basic hist plot\n",
    "    X.hist(figsize=(width,int(width*0.6)))\n",
    "    plt.savefig(os.path.join(OUTPUT, f\"{getter.__name__}_X_hist.png\"))\n",
    "    plt.close()\n",
    "\n",
    "    corr_mat = X.corr().round(2)\n",
    "    f, ax = plt.subplots(figsize=(width,width))\n",
    "    mask = np.zeros_like(corr_mat,dtype=np.bool)\n",
    "    mask[np.triu_indices_from(mask)] = True\n",
    "    sns.heatmap(corr_mat,mask=mask,vmin=-1,vmax=1,center=0, \n",
    "                cmap='plasma',square=False,lw=2,annot=True,cbar=False).set_title(f\"{getter.__name__} Correlation Map\")\n",
    "    plt.savefig(os.path.join(OUTPUT, f\"{getter.__name__}_X_corr.png\"))\n",
    "    plt.close()\n",
    "\n",
    "    y.value_counts().plot(kind='bar', title = f\"{getter.__name__} Y Distribution\")\n",
    "    plt.savefig(os.path.join(OUTPUT, f\"{getter.__name__}_y.png\"))\n",
    "    plt.close()"
   ]
  },
  {
   "cell_type": "code",
   "execution_count": null,
   "metadata": {},
   "outputs": [],
   "source": []
  }
 ],
 "metadata": {
  "kernelspec": {
   "display_name": "Python 3.9.12 ('venv': venv)",
   "language": "python",
   "name": "python3"
  },
  "language_info": {
   "codemirror_mode": {
    "name": "ipython",
    "version": 3
   },
   "file_extension": ".py",
   "mimetype": "text/x-python",
   "name": "python",
   "nbconvert_exporter": "python",
   "pygments_lexer": "ipython3",
   "version": "3.9.12"
  },
  "vscode": {
   "interpreter": {
    "hash": "bb1816ef6abe37709700f59d296504afbde16240c11088d3d5ef633232cba45c"
   }
  }
 },
 "nbformat": 4,
 "nbformat_minor": 4
}
