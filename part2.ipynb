{
 "cells": [
  {
   "cell_type": "code",
   "execution_count": 2,
   "metadata": {},
   "outputs": [],
   "source": [
    "# Load libraries\n",
    "import os\n",
    "import pandas as pd\n",
    "import seaborn as sns\n",
    "import numpy as np\n",
    "import matplotlib.pyplot as plt\n",
    "# Turn interactive plotting off, show plot only when plt.show() is called\n",
    "plt.ioff()\n",
    "\n",
    "INPUT = \"datasets\"\n",
    "OUTPUT = os.path.join(\"part2_results\")\n",
    "\n",
    "if not os.path.exists(OUTPUT):\n",
    "    os.makedirs(OUTPUT)\n",
    "\n",
    "from warnings import filterwarnings\n",
    "filterwarnings(action='ignore', category=DeprecationWarning, message='`np.bool` is a deprecated alias')"
   ]
  },
  {
   "cell_type": "markdown",
   "metadata": {},
   "source": [
    "# Import datasets"
   ]
  },
  {
   "cell_type": "code",
   "execution_count": 3,
   "metadata": {},
   "outputs": [],
   "source": [
    "# preprocessing method\n",
    "def cat_2_num(df:pd.DataFrame):\n",
    "    cat_columns = df.select_dtypes(['object']).columns\n",
    "    df[cat_columns] = df[cat_columns].astype('category')\n",
    "    df[cat_columns] = df[cat_columns].apply(lambda x: x.cat.codes)\n",
    "    return df"
   ]
  },
  {
   "cell_type": "code",
   "execution_count": 4,
   "metadata": {},
   "outputs": [],
   "source": [
    "def get_statistical_overview(X:pd.DataFrame):\n",
    "    X = X.replace('?', np.nan)\n",
    "    types = \"\"\n",
    "    for i in range(len(X.dtypes)):\n",
    "        types += f\"Attribute {i}: {X.dtypes[i]}; \"\n",
    "    return {\n",
    "        'Number of Instances': [len(X)],\n",
    "        'Number of Attributes': [len(X.columns)],\n",
    "        'Attribute Information': ['; '.join([f\"{key}:{value} attributes\" for (key, value) in dict(X.dtypes.value_counts()).items()])],\n",
    "        'Missing Value':[f\"{1-(sum(X.count()))/(X.shape[0]*X.shape[1]):.2%}\"]\n",
    "    }"
   ]
  },
  {
   "cell_type": "code",
   "execution_count": 23,
   "metadata": {},
   "outputs": [],
   "source": [
    "X = pd.read_table(os.path.join(INPUT,\"german.data-numeric\"),delim_whitespace = True, header = None)"
   ]
  },
  {
   "cell_type": "markdown",
   "metadata": {},
   "source": [
    "## UCI datasets"
   ]
  },
  {
   "cell_type": "code",
   "execution_count": 349,
   "metadata": {},
   "outputs": [],
   "source": [
    "# can't find header in docs\n",
    "def German():\n",
    "    df = pd.read_table(os.path.join(INPUT,\"german.data-numeric\"),delim_whitespace = True, header = None)\n",
    "    stats = get_statistical_overview(df.drop(columns = [24]))\n",
    "    stats['Abbreviation'] = ['German']\n",
    "    stats['Handling NA'] = [\"no na values\"]\n",
    "    df[24] = df[24]-1    # change label from 1,2 to 0,1\n",
    "    return df.drop(columns = [24]), df[24].astype(bool), pd.DataFrame(stats)"
   ]
  },
  {
   "cell_type": "code",
   "execution_count": 350,
   "metadata": {},
   "outputs": [],
   "source": [
    "# can't find header names\n",
    "def Australian():\n",
    "    df = pd.read_table(os.path.join(INPUT,\"australian.dat\"),delim_whitespace = True, header = None)\n",
    "    stats = get_statistical_overview(df)\n",
    "    stats['Abbreviation'] = ['Australian']\n",
    "    stats['Handling NA'] = [\"no na values\"]\n",
    "    return df.drop(columns = [14]), df[14].astype(bool), pd.DataFrame(stats)"
   ]
  },
  {
   "cell_type": "code",
   "execution_count": 351,
   "metadata": {},
   "outputs": [],
   "source": [
    "# manually include header\n",
    "def Crx():\n",
    "    df = pd.read_csv(os.path.join(INPUT,\"crx.data\"), header = None)\n",
    "    stats = get_statistical_overview(df.drop(columns = [15]))\n",
    "    stats['Handling NA'] = [\"drop entries with na values\"]    # manual added\n",
    "    stats['Abbreviation'] = ['Crx']\n",
    "    # drop entries with ?\n",
    "    df = df.replace(\"?\", np.nan).dropna()\n",
    "    # convert category data to numerical data\n",
    "    df = cat_2_num(df)\n",
    "    return df.drop(columns = [15]), df[15].astype(bool), pd.DataFrame(stats)"
   ]
  },
  {
   "cell_type": "code",
   "execution_count": 352,
   "metadata": {},
   "outputs": [],
   "source": [
    "# manually include header\n",
    "def Hepatitis():\n",
    "    df = pd.read_csv(os.path.join(INPUT,\"hepatitis.data\"), header = None)\n",
    "    stats = get_statistical_overview(df.drop(columns = [19]))\n",
    "    stats['Handling NA'] = [\"treat na value as a class\"]\n",
    "    stats['Abbreviation'] = ['Hepatitis']\n",
    "    df = cat_2_num(df)\n",
    "    df[19] = df[19]-1 # change to 0 or 1\n",
    "    return df.drop(columns = [19]), df[19].astype(bool), pd.DataFrame(stats)"
   ]
  },
  {
   "cell_type": "code",
   "execution_count": 353,
   "metadata": {},
   "outputs": [],
   "source": [
    "# manually include header\n",
    "def Ionosphere():\n",
    "    df = pd.read_csv(os.path.join(INPUT, \"ionosphere.data\"), header=None)\n",
    "    stats = get_statistical_overview(df.drop(columns = [34]))\n",
    "    stats['Handling NA'] = [\"no na values\"]\n",
    "    stats['Abbreviation'] = ['Ionosphere']\n",
    "    df = cat_2_num(df)\n",
    "    return df.drop(columns = [34]), df[34].astype(bool), pd.DataFrame(stats)"
   ]
  },
  {
   "cell_type": "markdown",
   "metadata": {},
   "source": [
    "## Additional Kaggle datasets"
   ]
  },
  {
   "cell_type": "code",
   "execution_count": 354,
   "metadata": {},
   "outputs": [],
   "source": [
    "def Pumpkin():\n",
    "    df = pd.read_excel(os.path.join(\"datasets\",'Pumpkin_Seeds_Dataset.xlsx'), sheet_name='Pumpkin_Seeds_Dataset',engine='openpyxl')\n",
    "    stats = get_statistical_overview(df.drop(columns = ['Class']))\n",
    "    stats['Handling NA'] = [\"no na values\"]\n",
    "    stats['Abbreviation'] = ['Pumpkin']\n",
    "    df = cat_2_num(df)\n",
    "    return df.drop(columns = ['Class']), df['Class'].astype(bool), pd.DataFrame(stats)"
   ]
  },
  {
   "cell_type": "code",
   "execution_count": 355,
   "metadata": {},
   "outputs": [],
   "source": [
    "# 5644 samples, relatively large dataset\n",
    "def Mushroom():\n",
    "    df = pd.read_csv(os.path.join(INPUT,'mushrooms.csv'))\n",
    "    stats = get_statistical_overview(df.drop(columns = ['class']))\n",
    "    stats['Abbreviation'] = ['Mushroom']\n",
    "    stats['Handling NA'] = [\"drop entries with na values\"]\n",
    "    df = df.replace(\"?\", np.nan).dropna()\n",
    "    df = cat_2_num(df)\n",
    "    return df.drop(columns = ['class']), df['class'].astype(bool), pd.DataFrame(stats)"
   ]
  },
  {
   "cell_type": "code",
   "execution_count": 356,
   "metadata": {},
   "outputs": [],
   "source": [
    "def Diabetes():\n",
    "    df = pd.read_csv(os.path.join(INPUT,'diabetes_data.csv'), sep=';')\n",
    "    stats = get_statistical_overview(df.drop(columns = ['class']))\n",
    "    stats['Abbreviation'] = ['Diabetes']\n",
    "    stats['Handling NA'] = [\"no na values\"]\n",
    "    df = cat_2_num(df)\n",
    "    return df.drop(columns = ['class']), df['class'].astype(bool), pd.DataFrame(stats)"
   ]
  },
  {
   "cell_type": "markdown",
   "metadata": {},
   "source": [
    "# Exploratory Data Analysis"
   ]
  },
  {
   "cell_type": "code",
   "execution_count": 357,
   "metadata": {},
   "outputs": [],
   "source": [
    "def save_plots(X, y, dataset_name):\n",
    "    width = len(X.columns)\n",
    "\n",
    "    # basic hist plot\n",
    "    X.hist(figsize=(int(width*1.2),int(width*0.8)))\n",
    "    plt.savefig(os.path.join(OUTPUT, f\"{dataset_name}_X_hist.png\"))\n",
    "    plt.close()\n",
    "\n",
    "    corr_mat = X.corr().round(2)\n",
    "    f, ax = plt.subplots(figsize=(width,width))\n",
    "    mask = np.zeros_like(corr_mat,dtype=np.bool)\n",
    "    mask[np.triu_indices_from(mask)] = True\n",
    "    sns.heatmap(corr_mat,mask=mask,vmin=-1,vmax=1,center=0, \n",
    "                cmap='plasma',square=False,lw=2,annot=True,cbar=False).set_title(f\"{dataset_name} Correlation Map\")\n",
    "    plt.savefig(os.path.join(OUTPUT, f\"{dataset_name}_X_corr.png\"))\n",
    "    plt.close()\n",
    "\n",
    "    ax = y.value_counts().plot(kind='bar', title = f\"{dataset_name} Y Distribution\")\n",
    "    for p in ax.patches:\n",
    "        ax.annotate(str(p.get_height()), (p.get_x() + p.get_width() / 2, p.get_height()*1.01), ha='center', va='center')\n",
    "    plt.savefig(os.path.join(OUTPUT, f\"{dataset_name}_y.png\"))\n",
    "    plt.close()"
   ]
  },
  {
   "cell_type": "code",
   "execution_count": 358,
   "metadata": {},
   "outputs": [],
   "source": [
    "dataset_getters = [German, Australian, Crx, Hepatitis, Ionosphere, Pumpkin, Mushroom, Diabetes]\n",
    "attribute_stats = []\n",
    "for getter in dataset_getters:\n",
    "    X, y, stats = getter()\n",
    "    save_plots(X, y, getter.__name__)\n",
    "    attribute_stats.append(stats)\n",
    "pd.concat(attribute_stats).to_csv(os.path.join(OUTPUT, 'model_statistical_overview.tsv'), sep='\\t', index=False)"
   ]
  },
  {
   "cell_type": "code",
   "execution_count": null,
   "metadata": {},
   "outputs": [],
   "source": []
  }
 ],
 "metadata": {
  "kernelspec": {
   "display_name": "Python 3.9.12 ('venv': venv)",
   "language": "python",
   "name": "python3"
  },
  "language_info": {
   "codemirror_mode": {
    "name": "ipython",
    "version": 3
   },
   "file_extension": ".py",
   "mimetype": "text/x-python",
   "name": "python",
   "nbconvert_exporter": "python",
   "pygments_lexer": "ipython3",
   "version": "3.9.12"
  },
  "vscode": {
   "interpreter": {
    "hash": "bb1816ef6abe37709700f59d296504afbde16240c11088d3d5ef633232cba45c"
   }
  }
 },
 "nbformat": 4,
 "nbformat_minor": 4
}
